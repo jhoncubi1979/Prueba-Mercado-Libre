{
 "cells": [
  {
   "cell_type": "code",
   "execution_count": null,
   "id": "6a1d925d-4f7b-4dd5-8ba9-188c5b386c50",
   "metadata": {},
   "outputs": [],
   "source": [
    "LIBRERIAS NECESARIAS"
   ]
  },
  {
   "cell_type": "code",
   "execution_count": null,
   "id": "d24ed997",
   "metadata": {
    "scrolled": true
   },
   "outputs": [],
   "source": [
    "import requests\n",
    "import numpy as np\n",
    "import pandas as pd\n",
    "from pandas import json_normalize\n",
    "import os, time\n",
    "import pickle, gzip\n",
    "import json\n",
    "from sklearn.preprocessing import LabelEncoder, StandardScaler\n",
    "from sklearn.decomposition import PCA\n",
    "from sklearn.cluster import KMeans\n",
    "import matplotlib.pyplot as plt\n",
    "import seaborn as sns\n",
    "import warnings\n",
    "from sklearn.preprocessing import OneHotEncoder\n",
    "%matplotlib inline\n",
    "warnings.filterwarnings(\"ignore\", category=FutureWarning)\n"
   ]
  },
  {
   "cell_type": "code",
   "execution_count": null,
   "id": "10d84309-0de9-40d8-be7f-0f24f040ff2a",
   "metadata": {},
   "outputs": [],
   "source": [
    "REVISION APIS "
   ]
  },
  {
   "cell_type": "code",
   "execution_count": null,
   "id": "87193ca4",
   "metadata": {
    "scrolled": true
   },
   "outputs": [],
   "source": [
    "#REVISION API CATEGORIAS- 32 CATEGORIAS\n",
    "cats = requests.get('https://api.mercadolibre.com/sites/MLA/categories')\n",
    "cats.json()"
   ]
  },
  {
   "cell_type": "code",
   "execution_count": null,
   "id": "33052233",
   "metadata": {},
   "outputs": [],
   "source": [
    "# Voy a enfocar mi ejercicio en la categoria de consolas y Videojuegos MLA1144\n",
    "cats_2 = requests.get('https://api.mercadolibre.com/categories/MLA1144')\n",
    "cats_2_1 = cats_2.json()\n",
    "#cats_2_1"
   ]
  },
  {
   "cell_type": "code",
   "execution_count": null,
   "id": "5e485be8",
   "metadata": {},
   "outputs": [],
   "source": [
    "# AHORA QUIERO EXPLORAR LAS CATEGORIAS HIJAS (SUBCATEGORIAS-CONSOLAS)\n",
    "subcategorias = cats_2_1.get('children_categories', [])\n",
    "subcategorias_detalles = [(subcategory['id'], subcategory['name'], subcategory['total_items_in_this_category']) for subcategory in subcategorias]\n",
    "subcategorias_detalles\n",
    "# Encontramos 7 subcategorias (children_categories) dentro de la categoria 'Consolas y Videojuegos'"
   ]
  },
  {
   "cell_type": "code",
   "execution_count": null,
   "id": "3157f92a",
   "metadata": {},
   "outputs": [],
   "source": [
    "# Ahora exploremos la subcategoria de mayor cantidad de elementos que es 'MLA438566', 'Consolas'\n",
    "subcat = requests.get('https://api.mercadolibre.com/categories/MLA438566')\n",
    "subcat_1 = subcat.json()\n",
    "#subcat_1"
   ]
  },
  {
   "cell_type": "code",
   "execution_count": null,
   "id": "29ef4b0b",
   "metadata": {},
   "outputs": [],
   "source": [
    "# ES IMPORTANTE REVISAR Y ADENTARNOS EN LOS ATRIBUTOS 'MLA438566', 'Consolas'\n",
    "atribut_subcat = requests.get('https://api.mercadolibre.com/categories/MLA438566/attributes')\n",
    "atribut_subcat_1 = atribut_subcat.json()\n",
    "atribut_subcat_1"
   ]
  },
  {
   "cell_type": "code",
   "execution_count": null,
   "id": "cf653bed",
   "metadata": {},
   "outputs": [],
   "source": [
    "# Vamos a entender cuales atributos son obligatorios en Consolas\n",
    "\n",
    "# Realizamos la solicitud a la API\n",
    "atribut_subcat = requests.get('https://api.mercadolibre.com/categories/MLA438566/attributes')\n",
    "atribut_subcat_1 = atribut_subcat.json()\n",
    "\n",
    "# Filtramos los nombres de los atributos que son obligatorios\n",
    "atributos_obligatorios = [atributo['name'] for atributo in atribut_subcat_1 if atributo.get('tags', {}).get('required', False)]\n",
    "\n",
    "# Mostramos los nombres de los atributos obligatorios\n",
    "for atributo_nombre in atributos_obligatorios:\n",
    "    print(atributo_nombre)\n",
    "#ENTENDEMOS CUALES SON LOS ATRIBUTOS OBLIGATORIOS A DILIGENCIA POR SELLER EN EL MOENTO DE HACER LA PUBLICACIÓN"
   ]
  },
  {
   "cell_type": "code",
   "execution_count": null,
   "id": "ebc69453-ef18-4aa3-9f76-53e260694d49",
   "metadata": {},
   "outputs": [],
   "source": [
    "CREACION DE BASES DE INTERES"
   ]
  },
  {
   "cell_type": "code",
   "execution_count": null,
   "id": "f4750e5d",
   "metadata": {},
   "outputs": [],
   "source": [
    "# POR EL MOMENTO SOLO HEMOS EXPLORADO DATA A NIEL GENERAL CATEGORIAS SUBCATEGORIAS- Ahora vamos a explorar los items de la subcategoria Consolas MLA438566\n",
    "# TENIENDO EN CEUNAT LA INFORMACIÓND DADA\n",
    "cat_id = 'MLA438566'\n",
    "offset = 0\n",
    "url = f'https://api.mercadolibre.com/sites/MLA/search?category={cat_id}&offset={offset}'\n",
    "request = requests.get(url)\n",
    "# Aplanar la estructura anidada del JSON\n",
    "definir = request.json()['results']\n",
    "# Convertir a DataFrame\n",
    "Item_1_plano = pd.DataFrame(definir)\n",
    "# Exportar a Excel\n",
    " Item_1_plano.to_excel('datos_mercadolibre_50.xlsx', index=False)\n"
   ]
  },
  {
   "cell_type": "code",
   "execution_count": null,
   "id": "ea93bbb5",
   "metadata": {},
   "outputs": [],
   "source": [
    "# teniendo en cuenta la consideraciones dadas en el PDF dado , ahora quiero hacerlo incrementando el offset (iteraciones de 50 en 50)\n",
    "cat_id = 'MLA438566'\n",
    "\n",
    "# Inicializar una lista para almacenar los DataFrames resultantes\n",
    "items_dfs = []\n",
    "\n",
    "# Iterar sobre los diferentes valores de offset\n",
    "for offset in range(0, 1050, 50):\n",
    "    # Construir la URL con el offset actual\n",
    "    url = f'https://api.mercadolibre.com/sites/MLA/search?category={cat_id}&offset={offset}'\n",
    "    \n",
    "    # Realizar la solicitud a la API\n",
    "    request = requests.get(url)\n",
    "    \n",
    "    # Verificar si la solicitud fue exitosa\n",
    "    if request.status_code == 200:\n",
    "        # Aplanar la estructura anidada del JSON\n",
    "        comprimir = request.json()['results']\n",
    "        \n",
    "        # Convertir a DataFrame y agregarlo a la lista\n",
    "        items_dfs.append(pd.DataFrame(comprimir))\n",
    "    else:\n",
    "        print(f\"Error al obtener datos para el offset {offset}\")\n",
    "\n",
    "# Concatenar todos los DataFrames en uno solo\n",
    "Item_1_plano_final = pd.concat(items_dfs, ignore_index=True)\n",
    "\n",
    "# Visualizar el DataFrame resultante\n",
    "print(Item_1_plano_final)\n",
    "\n",
    "\n"
   ]
  },
  {
   "cell_type": "code",
   "execution_count": null,
   "id": "0b2bdb47",
   "metadata": {},
   "outputs": [],
   "source": [
    "#dimensiones de nuestra base de datos eprmitidas\n",
    "Item_1_plano_final.shape"
   ]
  },
  {
   "cell_type": "code",
   "execution_count": null,
   "id": "2a84ff94",
   "metadata": {},
   "outputs": [],
   "source": [
    "# Exportar a Excel (base de 1020 publiacioes de la subtegoria Consolas pertenecientea la categoria Consolas y video Juegos)\n",
    " Item_1_plano_final.to_excel('datos_mercadolibre.xlsx', index=False)"
   ]
  },
  {
   "cell_type": "code",
   "execution_count": null,
   "id": "aa15dac4",
   "metadata": {},
   "outputs": [],
   "source": [
    "# veo que es necesario abrir la informacióndel seller y los atributos por la manera en que vienen estructurados en la base original\n",
    "\n",
    "Item_1_plano_final_aju = pd.DataFrame(Item_1_plano_final)"
   ]
  },
  {
   "cell_type": "code",
   "execution_count": null,
   "id": "f80f1440",
   "metadata": {},
   "outputs": [],
   "source": [
    "Nuevo0 = Item_1_plano_final_aju[['id','title', 'listing_type_id', 'price', 'original_price']]"
   ]
  },
  {
   "cell_type": "code",
   "execution_count": null,
   "id": "349e93ad",
   "metadata": {
    "scrolled": true
   },
   "outputs": [],
   "source": [
    "# Crear Nuevo1 seleccionando las columnas 'id' y 'seller'\n",
    "Nuevo1 = Item_1_plano_final_aju[['id', 'seller']]\n",
    "\n",
    "nuevos_nombres = {'id': 'idd', 'seller': 'seller'}\n",
    "Nuevo1 = Nuevo1.rename(columns=nuevos_nombres)\n",
    "\n",
    "# Desagregar la columna 'seller' en columnas individuales\n",
    "seller_df = json_normalize(Nuevo1['seller'])\n",
    "\n",
    "# Copiar el DataFrame para evitar SettingWithCopyWarning\n",
    "Nuevo1 = Nuevo1.copy()\n",
    "\n",
    "# Eliminar la columna 'seller' original\n",
    "Nuevo1.drop(columns=['seller'], inplace=True)\n",
    "\n",
    "# Concatenar las columnas desagregadas con el DataFrame original\n",
    "Nuevo1 = pd.concat([Nuevo1, seller_df], axis=1)\n",
    "\n",
    "# Cambiar los nombres de las columnas\n",
    "nuevos_nombres = {'idd': 'id', 'id': 'id_seller', 'nickname': 'nickname'}\n",
    "Nuevo1 = Nuevo1.rename(columns=nuevos_nombres)\n",
    "\n",
    "# Visualizar el DataFrame Nuevo1\n",
    "print(Nuevo1.head())"
   ]
  },
  {
   "cell_type": "code",
   "execution_count": null,
   "id": "cad72808",
   "metadata": {},
   "outputs": [],
   "source": [
    "# Ejemplo de DataFrame Nuevo2\n",
    "Nuevo2 = df[['id', 'attributes']]  # DataFrame con las columnas 'id' y 'attributes'\n",
    "\n",
    "# Inicializar un DataFrame vacío para almacenar los atributos expandidos\n",
    "df_expandido = pd.DataFrame()\n",
    "\n",
    "# Obtener una lista de todos los atributos únicos presentes en los datos\n",
    "atributos_unicos = set()\n",
    "for lista_de_diccionarios in Nuevo2['attributes']:\n",
    "    for diccionario in lista_de_diccionarios:\n",
    "        atributos_unicos.add(diccionario['name'])\n",
    "\n",
    "# Crear columnas para cada atributo único\n",
    "for atributo in atributos_unicos:\n",
    "    df_expandido[atributo] = None\n",
    "\n",
    "# Llenar el DataFrame expandido con los valores de los atributos\n",
    "for i, lista_de_diccionarios in enumerate(Nuevo2['attributes']):\n",
    "    for diccionario in lista_de_diccionarios:\n",
    "        df_expandido.loc[i, diccionario['name']] = diccionario['value_name']\n",
    "\n",
    "# Agregar la columna 'id' al DataFrame expandido\n",
    "df_expandido['id'] = Nuevo2['id'].values\n",
    "\n",
    "# renombrar\n",
    "Nuevo2 = df_expandido\n",
    "\n",
    "# Visualizar el DataFrame Nuevo1\n",
    "print(Nuevo2.head())\n"
   ]
  },
  {
   "cell_type": "code",
   "execution_count": null,
   "id": "30f818bf",
   "metadata": {},
   "outputs": [],
   "source": [
    "# Unir los DataFrames Nuevo0, Nuevo1 \n",
    "Items = pd.merge(Nuevo0, Nuevo1, on='id', how='inner')"
   ]
  },
  {
   "cell_type": "code",
   "execution_count": null,
   "id": "2bdb2c93",
   "metadata": {},
   "outputs": [],
   "source": [
    "# Unir los DataFrames Nuevo1, Nuevo2 \n",
    "Items = pd.merge(Items, Nuevo2, on='id', how='inner')"
   ]
  },
  {
   "cell_type": "code",
   "execution_count": null,
   "id": "736c7d1f",
   "metadata": {},
   "outputs": [],
   "source": [
    "Items.head(5)"
   ]
  },
  {
   "cell_type": "code",
   "execution_count": null,
   "id": "463504fc",
   "metadata": {},
   "outputs": [],
   "source": [
    "Items.shape"
   ]
  },
  {
   "cell_type": "code",
   "execution_count": null,
   "id": "d6442bf0",
   "metadata": {},
   "outputs": [],
   "source": [
    "# Exportar a Excel\n",
    "Items.to_excel('datos_mercadolibre_items_api.xlsx', index=False)"
   ]
  },
  {
   "cell_type": "code",
   "execution_count": null,
   "id": "a6487303-4715-43d1-bb68-5e2d811a54ed",
   "metadata": {},
   "outputs": [],
   "source": [
    "NUEVA DATA CON LOS CARACTERISTICAS DE LOS ITEMS"
   ]
  },
  {
   "cell_type": "code",
   "execution_count": null,
   "id": "e71c6ca4",
   "metadata": {},
   "outputs": [],
   "source": [
    "#aca consulo la informaciond e los items pero curzando con la información anteriormente obtenida\n",
    "\n",
    "data = []\n",
    "\n",
    "for item_id in Items['id']:\n",
    "    # URL para obtener detalles del producto\n",
    "    url = f'https://api.mercadolibre.com/items/{item_id}'\n",
    "\n",
    "    # Realizar la solicitud a la API para obtener detalles del producto\n",
    "    response = requests.get(url)\n",
    "\n",
    "    # Verificar si la solicitud fue exitosa\n",
    "    if response.status_code == 200:\n",
    "        # Convertir la respuesta JSON en un diccionario de Python\n",
    "        product_details = response.json()\n",
    "\n",
    "        # Agregar los detalles del producto al listado de datos\n",
    "        data.append(product_details)\n",
    "    else:\n",
    "        print(f\"Error al obtener detalles del producto {item_id}. Código de estado: {response.status_code}\")\n",
    "\n",
    "# Convertir el listado de datos en un DataFrame y cambiar el nombre del DataFrame a 'Items_full'\n",
    "Items_full = pd.DataFrame(data)\n",
    "\n",
    "# Visualizar el DataFrame resultante\n",
    "print(Items_full)\n",
    "\n"
   ]
  },
  {
   "cell_type": "code",
   "execution_count": null,
   "id": "b6760b36",
   "metadata": {},
   "outputs": [],
   "source": [
    "# Exportar a Excel\n",
    "Items_full.to_excel('datos_mercadolibre_items_full.xlsx', index=False)"
   ]
  },
  {
   "cell_type": "code",
   "execution_count": null,
   "id": "d2917183",
   "metadata": {},
   "outputs": [],
   "source": [
    "#aca dejo la base que considero pertiente para poder obserar los items parecidos o iguales\n",
    "# Seleccionar variable 'id' y variable 'attributes' para construir nuevo DF\n",
    "Items_full2 = Items_full[['id', 'title', 'seller_id', 'category_id',\n",
    "                          'price', 'base_price', 'original_price', 'listing_type_id', 'condition', \n",
    "                          'permalink', 'warranty', 'attributes']]"
   ]
  },
  {
   "cell_type": "code",
   "execution_count": null,
   "id": "0748eb78",
   "metadata": {},
   "outputs": [],
   "source": [
    "#vamos a obtener una base de datos con la información que considero es relevante\n",
    "\n",
    "# Inicializar un DataFrame vacío para almacenar los atributos expandidos\n",
    "df_expandido = pd.DataFrame()\n",
    "\n",
    "# Obtener una lista de todos los atributos únicos presentes en los datos\n",
    "atributos_unicos = set()\n",
    "for lista_de_diccionarios in Items_full2['attributes']:\n",
    "    if lista_de_diccionarios is not None:  # Comprobación para evitar errores si la lista está vacía\n",
    "        for diccionario in lista_de_diccionarios:\n",
    "            atributos_unicos.add(diccionario['name'])\n",
    "\n",
    "# Crear un DataFrame temporal para almacenar los valores de los atributos\n",
    "temp_df = pd.DataFrame(index=range(len(Items_full2)), columns=list(atributos_unicos))\n",
    "\n",
    "\n",
    "# Llenar el DataFrame temporal con los valores de los atributos\n",
    "for i, lista_de_diccionarios in enumerate(Items_full2['attributes']):\n",
    "    if lista_de_diccionarios is not None:  # Comprobación para evitar errores si la lista está vacía\n",
    "        for diccionario in lista_de_diccionarios:\n",
    "            temp_df.at[i, diccionario['name']] = diccionario['value_name']\n",
    "\n",
    "# Concatenar el DataFrame temporal con el DataFrame original\n",
    "df_expandido = pd.concat([Items_full2, temp_df], axis=1)\n",
    "\n",
    "# Eliminar la columna 'attributes' del DataFrame expandido\n",
    "df_expandido.drop('attributes', axis=1, inplace=True)\n",
    "Items_full_final = df_expandido\n",
    "\n",
    "#aca quiero dejar  una variable de titulos sin espacios, uniendola para poder hacer comparaciones y adjuntandola a nuestra base de datos \n",
    "# Crear la variable 'title_aju' sin espacios ( con el fin de ealuar posible duplicados y mineria )\n",
    "Items_full_final['title_aju'] = Items_full_final['title'].str.lower().str.replace(' ', '')\n",
    "\n",
    "# Visualizar el DataFrame final\n",
    "print(Items_full_final.head())"
   ]
  },
  {
   "cell_type": "code",
   "execution_count": null,
   "id": "c45aab1f",
   "metadata": {
    "scrolled": true
   },
   "outputs": [],
   "source": [
    "Items_full_final.shape"
   ]
  },
  {
   "cell_type": "code",
   "execution_count": null,
   "id": "cd7918b8",
   "metadata": {},
   "outputs": [],
   "source": [
    "# Exportar a Excel\n",
    "Items_full_final.to_excel('datos_mercadolibre_items_full_final.xlsx', index=False)"
   ]
  },
  {
   "cell_type": "code",
   "execution_count": null,
   "id": "a54e8654-c4a5-4881-a4cd-b2e5d4740b49",
   "metadata": {
    "scrolled": true
   },
   "outputs": [],
   "source": [
    "#aca identifico que con estas  tres variables pudeo identificar items o publciaciones similares Titulo, Marca y Modelo.\n",
    "# Obtener la tabla de frecuencias de las columnas 'title_aju', 'Modelo' y 'Marca'\n",
    "frecuencias = Items_full_final[['title_aju', 'Modelo', 'Marca']].value_counts().reset_index()\n",
    "frecuencias.columns = ['title_aju', 'Modelo', 'Marca', 'Frecuencia']\n",
    "\n",
    "# Filtrar para mostrar solo las filas con frecuencia mayor a 1, esto con el fin de evaluar cuales son los items que estan duplcaidos \n",
    "frecuencias_filtradas = frecuencias[frecuencias['Frecuencia'] > 1 ]\n",
    "\n",
    "# Mostrar la tabla de frecuencias filtrada\n",
    "print(frecuencias_filtradas)\n",
    "\n",
    "# Guardar la tabla de frecuencias filtrada en un archivo Excel(evaluar similaridades)\n",
    "frecuencias_filtradas.to_excel('tabla_frecuencias.xlsx', index=False)"
   ]
  },
  {
   "cell_type": "code",
   "execution_count": null,
   "id": "7936ba04-f88c-464e-b9fc-490e68b4948a",
   "metadata": {},
   "outputs": [],
   "source": [
    "CONSTRUCCION BASE DE DATOS CON LAS PUBLICACIONES SIMILARES O IGUALES"
   ]
  },
  {
   "cell_type": "code",
   "execution_count": null,
   "id": "27a1f326-4ccb-469a-b3cc-4d68f59757de",
   "metadata": {},
   "outputs": [],
   "source": [
    "#QUIERO CREAR DATAFRAMES CON CADA UNO DE LOS SEGMENTOS HALLADOS A TRAVÉZ DE LA EXPLORACION CON LAS TRESVARIABLES CONSIDERADAS\n",
    "\n",
    "# Crear un diccionario para almacenar los DataFrames con los nombres modificados\n",
    "dataframes_modificados = {}\n",
    "\n",
    "# Iterar sobre las filas de la tabla de frecuencias filtradas\n",
    "for index, row in frecuencias_filtradas.iterrows():\n",
    "    title_aju = row['title_aju']\n",
    "    modelo = row['Modelo']\n",
    "    marca = row['Marca']\n",
    "    \n",
    "    # Filtrar el DataFrame original para obtener los registros que coinciden con los valores\n",
    "    dataframe_filtrado = Items_full_final[(Items_full_final['title_aju'] == title_aju) & \n",
    "                                           (Items_full_final['Modelo'] == modelo) & \n",
    "                                           (Items_full_final['Marca'] == marca)]\n",
    "    \n",
    "    # Crear el nuevo nombre concatenando Marca, Modelo y title_aju con un guion bajo\n",
    "    nuevo_nombre = f\"{marca}_{modelo}_{title_aju}\"\n",
    "    \n",
    "    # Agregar el DataFrame con el nuevo nombre al diccionario\n",
    "    dataframes_modificados[nuevo_nombre] = dataframe_filtrado\n",
    "\n",
    "# Mostrar los DataFrames con los nuevos nombres y también guardarlos en variables locales\n",
    "for nombre, dataframe in dataframes_modificados.items():\n",
    "    print(f\"DataFrame '{nombre}':\")\n",
    "    print(dataframe)\n",
    "    print('\\n')\n",
    "    # Guardar el DataFrame en una variable local con el mismo nombre\n",
    "    locals()[nombre] = dataframe\n",
    "\n",
    "# Convertir el diccionario dataframes_modificados en un DataFrame\n",
    "df_nombres = pd.DataFrame(list(dataframes_modificados.items()), columns=['Nombre', 'DataFrame'])\n",
    "\n",
    "# Guardar el DataFrame en un archivo Excel\n",
    "df_nombres.to_excel('nombres_dataframes.xlsx', index=False)\n",
    "\n",
    "# Confirmación de que se guardó el archivo\n",
    "print(\"Se ha guardado el archivo 'nombres_dataframes.xlsx' con los nombres de los DataFrames.\")\n",
    "\n"
   ]
  },
  {
   "cell_type": "code",
   "execution_count": null,
   "id": "76a8870f-2077-4c98-a9ee-1b7654ff85bf",
   "metadata": {},
   "outputs": [],
   "source": [
    "# Obtener el número de DataFrames generados\n",
    "numero_dataframes = len(dataframes_modificados)\n",
    "\n",
    "# Mostrar el número de DataFrames generados\n",
    "print(\"Número de DataFrames generados:\", numero_dataframes)\n"
   ]
  },
  {
   "cell_type": "code",
   "execution_count": null,
   "id": "b3fb9ed3-7163-4a8f-a4ec-b6d7fbb9cd62",
   "metadata": {},
   "outputs": [],
   "source": [
    "# Crear un escritor de Excel\n",
    "writer = pd.ExcelWriter('dataframes_resultantes.xlsx')\n",
    "\n",
    "# Iterar sobre los DataFrames resultantes y guardar cada uno en una hoja de Excel\n",
    "for nombre, dataframe in dataframes_modificados.items():\n",
    "    # Truncar el nombre de la hoja si excede los 31 caracteres\n",
    "    nombre_hoja = nombre[:31]\n",
    "    \n",
    "    # Eliminar columnas con todos los registros vacíos\n",
    "    #dataframe = dataframe.dropna(axis=1, how='all')\n",
    "    \n",
    "    # Escribir el DataFrame en la hoja de Excel\n",
    "    dataframe.to_excel(writer, sheet_name=nombre_hoja, index=False)\n",
    "\n",
    "# Cerrar el escritor de Excel\n",
    "writer.close()\n",
    "\n",
    "# Confirmación de que se guardó el archivo\n",
    "print(\"Se ha guardado el archivo 'dataframes_resultantes.xlsx' con cada DataFrame en una hoja separada.\")\n",
    "\n",
    "#aca tendriamos en un archivo excel 41 hojas(cada una es un datarame ) de items similares a partir de maseod e datos\n",
    "\n"
   ]
  }
 ],
 "metadata": {
  "kernelspec": {
   "display_name": "Python 3 (ipykernel)",
   "language": "python",
   "name": "python3"
  },
  "language_info": {
   "codemirror_mode": {
    "name": "ipython",
    "version": 3
   },
   "file_extension": ".py",
   "mimetype": "text/x-python",
   "name": "python",
   "nbconvert_exporter": "python",
   "pygments_lexer": "ipython3",
   "version": "3.11.7"
  }
 },
 "nbformat": 4,
 "nbformat_minor": 5
}
